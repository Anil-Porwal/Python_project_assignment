{
 "cells": [
  {
   "cell_type": "markdown",
   "id": "18821b01",
   "metadata": {},
   "source": [
    "# Number Guessing Game"
   ]
  },
  {
   "cell_type": "code",
   "execution_count": 10,
   "id": "32af3ba6",
   "metadata": {},
   "outputs": [
    {
     "name": "stdout",
     "output_type": "stream",
     "text": [
      "Guess the randomly generated number from 1 to 100\n",
      "Enter the guessed number: 69\n",
      "nope, sorry. try again!\n",
      "Hint -> Your number is greater than the random number\n",
      "Enter the guessed number: 59\n",
      "nope, sorry. try again!\n",
      "Hint -> Your number is greater than the random number\n",
      "Enter the guessed number: 34\n",
      "nope, sorry. try again!\n",
      "Hint -> Your number is greater than the random number\n",
      "Enter the guessed number: 23\n",
      "nope, sorry. try again!\n",
      "Hint -> Your number is greater than the random number\n",
      "Enter the guessed number: 9\n",
      "nope, sorry. try again!\n",
      "Hint -> Your number is less than the random number\n",
      "Enter the guessed number: 18\n",
      "nope, sorry. try again!\n",
      "Hint -> Your number is less than the random number\n",
      "Enter the guessed number: 20\n",
      "nope, sorry. try again!\n",
      "Hint -> Your number is less than the random number\n",
      "Enter the guessed number: 21\n",
      "nope, sorry. try again!\n",
      "Hint -> Your number is less than the random number\n",
      "Enter the guessed number: 22\n",
      "-> Hurray! You got it in 9 steps!\n",
      "congratulations! you won!\n"
     ]
    }
   ],
   "source": [
    "import random\n",
    "\n",
    "\n",
    "class NumberGuessingGame:\n",
    "\n",
    "    def __init__(self):\n",
    "        ## define the range\n",
    "        self.LOWER = 1\n",
    "        self.HIGHER = 100\n",
    "\n",
    "    ## method to generate the random number\n",
    "    def get_random_number(self):\n",
    "        return random.randint(self.LOWER, self.HIGHER)\n",
    "\n",
    "    ## game start method\n",
    "    def start(self):\n",
    "        ## generating the random number\n",
    "        random_number = self.get_random_number()\n",
    "\n",
    "        print(\n",
    "            f\"Guess the randomly generated number from {self.LOWER} to {self.HIGHER}\")\n",
    "\n",
    "        ## heart of the game\n",
    "        chances = 0\n",
    "        while True:\n",
    "            user_number = int(input(\"Enter the guessed number: \"))\n",
    "            if user_number == random_number:\n",
    "            \n",
    "                print(\n",
    "                    f\"-> Hurray! You got it in {chances + 1} step{'s' if chances > 1 else ''}!\")\n",
    "                print(\"congratulations! you won!\")\n",
    "                break\n",
    "            elif user_number < random_number:\n",
    "                print(\"nope, sorry. try again!\")\n",
    "                print(\"Hint -> Your number is less than the random number\")\n",
    "            else:\n",
    "                print(\"nope, sorry. try again!\")\n",
    "                print(\"Hint -> Your number is greater than the random number\")\n",
    "            chances += 1\n",
    "\n",
    "## instantiating and starting the game\n",
    "numberGuessingGame = NumberGuessingGame()\n",
    "numberGuessingGame.start()"
   ]
  },
  {
   "cell_type": "markdown",
   "id": "7ba0f4b5",
   "metadata": {},
   "source": [
    "# Convert dictionary to python object"
   ]
  },
  {
   "cell_type": "code",
   "execution_count": 9,
   "id": "95817886",
   "metadata": {},
   "outputs": [
    {
     "name": "stdout",
     "output_type": "stream",
     "text": [
      "1\n",
      "2\n",
      "E\n",
      "3\n",
      "4\n"
     ]
    }
   ],
   "source": [
    "# importing the module\n",
    "import json\n",
    "   \n",
    "# declaringa a class\n",
    "class obj(object):\n",
    "      \n",
    "    # constructor\n",
    "    def __init__(self, dict1):\n",
    "        self.__dict__.update(dict1)\n",
    "   \n",
    "    def dict2obj(dict1):\n",
    "      \n",
    "    # using json.loads method and passing json.dumps\n",
    "    # method and custom object hook as arguments\n",
    "        return json.loads(json.dumps(dict1), object_hook=obj)\n",
    "     \n",
    "# initializing the dictionary  \n",
    "dictionary = {'A': 1, 'B': {'C': 2},\n",
    "              'D': ['E', {'F': 3}],'G':4}\n",
    "   \n",
    "# calling the function dict2obj and\n",
    "# passing the dictionary as argument\n",
    "obj1 = dict2obj(dictionary)\n",
    "   \n",
    "# accessing the dictionary as an object\n",
    "print (obj1.A)\n",
    "print(obj1.B.C)\n",
    "print(obj1.D[0])\n",
    "print(obj1.D[1].F)\n",
    "print(obj1.G)"
   ]
  },
  {
   "cell_type": "code",
   "execution_count": null,
   "id": "990c9bda",
   "metadata": {},
   "outputs": [],
   "source": []
  }
 ],
 "metadata": {
  "kernelspec": {
   "display_name": "Python 3",
   "language": "python",
   "name": "python3"
  },
  "language_info": {
   "codemirror_mode": {
    "name": "ipython",
    "version": 3
   },
   "file_extension": ".py",
   "mimetype": "text/x-python",
   "name": "python",
   "nbconvert_exporter": "python",
   "pygments_lexer": "ipython3",
   "version": "3.8.8"
  }
 },
 "nbformat": 4,
 "nbformat_minor": 5
}
